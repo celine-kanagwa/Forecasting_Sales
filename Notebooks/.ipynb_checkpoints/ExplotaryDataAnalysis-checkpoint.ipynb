{
 "cells": [
  {
   "cell_type": "markdown",
   "id": "97bfffba",
   "metadata": {},
   "source": [
    "## Exploratory Data Analysis of Rossmann Pharmaceuticals Sales Data"
   ]
  },
  {
   "cell_type": "markdown",
   "id": "cd808219",
   "metadata": {},
   "source": [
    "### Importing library "
   ]
  },
  {
   "cell_type": "code",
   "execution_count": 19,
   "id": "c36d6195",
   "metadata": {
    "scrolled": true
   },
   "outputs": [],
   "source": [
    "import pandas as pd \n",
    "import numpy as np \n",
    "import matplotlib.pyplot as plt\n",
    "import seaborn as sns\n",
    "import plotly.express as px\n",
    "\n",
    "import sys,os\n",
    "import warnings\n",
    "\n"
   ]
  },
  {
   "cell_type": "code",
   "execution_count": 22,
   "id": "075cbd4d",
   "metadata": {},
   "outputs": [],
   "source": [
    "sys.path.append(os.path.abspath(os.path.join('../scripts')))\n",
    "from file_handler import FileHandler\n",
    "from df_cleaner import *\n"
   ]
  },
  {
   "cell_type": "code",
   "execution_count": 23,
   "id": "62a1333c",
   "metadata": {},
   "outputs": [
    {
     "name": "stdout",
     "output_type": "stream",
     "text": [
      "Requirement already satisfied: plotly in c:\\users\\celine\\anaconda3\\lib\\site-packages (5.8.0)\n",
      "Requirement already satisfied: tenacity>=6.2.0 in c:\\users\\celine\\anaconda3\\lib\\site-packages (from plotly) (8.0.1)\n"
     ]
    }
   ],
   "source": [
    "!pip install plotly \n"
   ]
  },
  {
   "cell_type": "code",
   "execution_count": 33,
   "id": "269c277c",
   "metadata": {},
   "outputs": [],
   "source": [
    "warnings.filterwarnings('ignore')\n",
    "pd.set_option('display.max_columns', 50)"
   ]
  },
  {
   "cell_type": "code",
   "execution_count": 38,
   "id": "5b57902d",
   "metadata": {},
   "outputs": [],
   "source": [
    "DataFrame_sales = pd.read_csv (\"E:/10 academy/Task/Week 3/data/sample_submission.csv\")\n",
    "store_df= pd.read_csv (\"E:/10 academy/Task/Week 3/data/store.csv\")\n",
    "train_df = pd.read_csv (\"E:/10 academy/Task/Week 3/data/train.csv\")\n",
    "test_df  = pd.read_csv (\"E:/10 academy/Task/Week 3/data/test.csv\") "
   ]
  },
  {
   "cell_type": "code",
   "execution_count": null,
   "id": "585a21f5",
   "metadata": {},
   "outputs": [],
   "source": [
    "\n"
   ]
  },
  {
   "cell_type": "code",
   "execution_count": 35,
   "id": "16804bf0",
   "metadata": {},
   "outputs": [],
   "source": [
    "# create a FileHandler object\n",
    "file_handler = FileHandler()"
   ]
  },
  {
   "cell_type": "code",
   "execution_count": 36,
   "id": "aee02e8c",
   "metadata": {},
   "outputs": [],
   "source": [
    "# reading the store csv file\n",
    "store_df = file_handler.read_csv(\"../Data/ata/store.csv\")"
   ]
  },
  {
   "cell_type": "code",
   "execution_count": 37,
   "id": "ecc7bd37",
   "metadata": {},
   "outputs": [
    {
     "ename": "AttributeError",
     "evalue": "'NoneType' object has no attribute 'shape'",
     "output_type": "error",
     "traceback": [
      "\u001b[1;31m---------------------------------------------------------------------------\u001b[0m",
      "\u001b[1;31mAttributeError\u001b[0m                            Traceback (most recent call last)",
      "\u001b[1;32m~\\AppData\\Local\\Temp/ipykernel_2312/1769490072.py\u001b[0m in \u001b[0;36m<module>\u001b[1;34m\u001b[0m\n\u001b[1;32m----> 1\u001b[1;33m \u001b[0mstore_df\u001b[0m\u001b[1;33m.\u001b[0m\u001b[0mshape\u001b[0m\u001b[1;33m\u001b[0m\u001b[1;33m\u001b[0m\u001b[0m\n\u001b[0m",
      "\u001b[1;31mAttributeError\u001b[0m: 'NoneType' object has no attribute 'shape'"
     ]
    }
   ],
   "source": [
    "store_df.shape\n"
   ]
  },
  {
   "cell_type": "code",
   "execution_count": null,
   "id": "beb84adc",
   "metadata": {},
   "outputs": [],
   "source": []
  },
  {
   "cell_type": "code",
   "execution_count": null,
   "id": "07ade6d2",
   "metadata": {},
   "outputs": [],
   "source": []
  }
 ],
 "metadata": {
  "kernelspec": {
   "display_name": "Python 3 (ipykernel)",
   "language": "python",
   "name": "python3"
  },
  "language_info": {
   "codemirror_mode": {
    "name": "ipython",
    "version": 3
   },
   "file_extension": ".py",
   "mimetype": "text/x-python",
   "name": "python",
   "nbconvert_exporter": "python",
   "pygments_lexer": "ipython3",
   "version": "3.9.7"
  }
 },
 "nbformat": 4,
 "nbformat_minor": 5
}
