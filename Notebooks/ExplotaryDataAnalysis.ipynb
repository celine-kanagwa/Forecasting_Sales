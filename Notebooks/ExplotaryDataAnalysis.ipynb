{
 "cells": [
  {
   "cell_type": "markdown",
   "id": "546ac3a8",
   "metadata": {},
   "source": [
    "## Exploratory Data Analysis of Rossmann Pharmaceuticals Sales Data"
   ]
  },
  {
   "cell_type": "markdown",
   "id": "5003bcca",
   "metadata": {},
   "source": [
    "### Importing library "
   ]
  },
  {
   "cell_type": "code",
   "execution_count": 5,
   "id": "81f85c9c",
   "metadata": {
    "scrolled": true
   },
   "outputs": [],
   "source": [
    "import pandas as pd \n",
    "import numpy as np \n",
    "import matplotlib.pyplot as plt\n",
    "import seaborn as sns\n",
    "#import plotly.express as px\n",
    "\n",
    "import sys,os\n",
    "import warnings\n",
    "\n"
   ]
  },
  {
   "cell_type": "code",
   "execution_count": 6,
   "id": "9106fa8e",
   "metadata": {},
   "outputs": [
    {
     "name": "stdout",
     "output_type": "stream",
     "text": [
      "Requirement already satisfied: plotly in c:\\users\\celine\\anaconda3\\lib\\site-packages (5.8.0)\n",
      "Requirement already satisfied: tenacity>=6.2.0 in c:\\users\\celine\\anaconda3\\lib\\site-packages (from plotly) (8.0.1)\n"
     ]
    }
   ],
   "source": [
    "!pip install plotly \n"
   ]
  },
  {
   "cell_type": "code",
   "execution_count": 14,
   "id": "5329496e",
   "metadata": {},
   "outputs": [],
   "source": [
    "warnings.filterwarnings('ignore')\n",
    "pd.set_option('display.max_columns', 50)"
   ]
  },
  {
   "cell_type": "code",
   "execution_count": 17,
   "id": "ab842ff2",
   "metadata": {},
   "outputs": [],
   "source": [
    "DataFrame_sales = pd.read_csv (\"E:/10 academy/Task/Week 3/data/sample_submission.csv\")\n",
    "DataFrame_store= pd.read_csv (\"E:/10 academy/Task/Week 3/data/store.csv\")\n",
    "DataFrame_train = pd.read_csv (\"E:/10 academy/Task/Week 3/data/train.csv\")\n",
    "DataFrame_test  = pd.read_csv (\"E:/10 academy/Task/Week 3/data/test.csv\") "
   ]
  },
  {
   "cell_type": "code",
   "execution_count": null,
   "id": "d611bce0",
   "metadata": {},
   "outputs": [],
   "source": [
    "\n"
   ]
  },
  {
   "cell_type": "code",
   "execution_count": null,
   "id": "92943d08",
   "metadata": {},
   "outputs": [],
   "source": []
  }
 ],
 "metadata": {
  "kernelspec": {
   "display_name": "Python 3 (ipykernel)",
   "language": "python",
   "name": "python3"
  },
  "language_info": {
   "codemirror_mode": {
    "name": "ipython",
    "version": 3
   },
   "file_extension": ".py",
   "mimetype": "text/x-python",
   "name": "python",
   "nbconvert_exporter": "python",
   "pygments_lexer": "ipython3",
   "version": "3.9.7"
  }
 },
 "nbformat": 4,
 "nbformat_minor": 5
}
